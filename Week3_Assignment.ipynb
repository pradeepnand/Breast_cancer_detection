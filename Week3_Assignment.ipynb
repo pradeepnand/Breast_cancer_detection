{
 "cells": [
  {
   "cell_type": "markdown",
   "metadata": {},
   "source": [
    "### Q1: Now, there is a small homeowrk for statistics wherein you have to read about the parameteres, define them in brief and write about two main types of distributions:\n",
    "1. Gaussian distribution\n",
    "2. Binomial distribution\n",
    "3. Differentiate between both as well."
   ]
  },
  {
   "cell_type": "markdown",
   "metadata": {},
   "source": [
    "### Parameter:\n",
    "parameter is a value that describes a characteristic of an entire population.\n",
    "The most common statistics parameters are the measures of central tendency. For example, mean, median and mode are measures of central tendency that give us an idea about where the data concentrates.\n",
    "Standard deviation tells us how the data is spread from the central tendency, i.e. whether the distribution is wide or narrow.\n"
   ]
  },
  {
   "cell_type": "markdown",
   "metadata": {},
   "source": [
    "### Gaussian/Normal distribution : \n",
    "The normal distribution is a probability function that describes how the values of a variable are distributed.\n",
    "It is a symmetric distribution where most of the observations cluster around the central peak and the probabilities \n",
    "for values further away from the mean taper off equally in both directions.\n",
    "\n",
    "Normal distribution have the following characteristic properties:\n",
    "\n",
    "They’re all symmetric. The normal distribution cannot model skewed distributions.\n",
    "\n",
    "The mean, median, and mode are all equal.\n",
    "\n",
    "Half of the population is less than the mean and half is greater than the mean.\n",
    "\n",
    "The Empirical Rule allows you to determine the proportion of values that fall within certain distances from the mean"
   ]
  },
  {
   "cell_type": "markdown",
   "metadata": {},
   "source": [
    "### Binomial distribution\n",
    "A binomial distribution is the probability of a success or failure outcome in an experiment or survey that is repeated multiple times\n",
    "Binomial distributions must also meet the following criteria:\n",
    "\n",
    "The number of observations or trials is fixed\n",
    "\n",
    "Each observation or trial is independent. In other words, none of your trials have an effect on the probability of the next trial.\n",
    "\n",
    "There can be only two possible outcomes."
   ]
  },
  {
   "cell_type": "markdown",
   "metadata": {},
   "source": [
    "### Difference between Normal and Binomial distribution:\n",
    "    \n",
    "Binomial distribution is discrete i.e finite amount of events,this means that there are no data points between any\n",
    "two data points.\n",
    "\n",
    "Normal distribution is continious i.e infinite numbers ,this means it has continuous data points."
   ]
  },
  {
   "cell_type": "markdown",
   "metadata": {},
   "source": [
    "\n",
    "### Q2: Selectively write 5 lines about Logistics regression,Decision tree classifier and Random Forest classifier algorithms so that even a rather inexperienced person can understand it alongwith dealing all the technicalities.\n"
   ]
  },
  {
   "cell_type": "markdown",
   "metadata": {},
   "source": [
    "### Logistic regression\n",
    "Logistic regression is a Linear models are composed of one or multiple independent variables that describes a relationship to a dependent response variable (Dependent variable is a binary variable that contains data coded as 1 (yes, success, etc.) or 0 (no, failure, etc.)). Mapping qualitative or quantitative input features to a target variable that is attempted to being\n",
    "predicted.\n",
    "\n",
    "it's an ordinary least square regression is the method used to estimate coefficients for the best fit line in linear regression, logistic regression uses maximum likelihood estimation (MLE) to obtain the model coefficients that relate predictors to the target.\n",
    "\n",
    "Logistic regression transforms its output using the logistic sigmoid function to return a probability value.\n",
    "Sigmoid function maps any real value into another value between 0 and 1. In machine learning, we use sigmoid to map predictions to probabilities\n"
   ]
  },
  {
   "cell_type": "markdown",
   "metadata": {},
   "source": [
    "### Decision tree\n",
    "Decision Trees are a non-parametric supervised learning method used for both classification and regression tasks.\n",
    "The basic algorithm used in decision trees is known as the ID3 (by Quinlan) algorithm. The ID3 algorithm builds decision \n",
    "trees using a top-down, greedy approach.\n",
    "\n",
    "A decision tree is a tree-like graph with nodes representing the place where we pick an attribute and ask a question;\n",
    "edges represent the answers to the question and the leaves represent the actual output or class label.\n",
    "\n",
    "Best attribute in terms of which attribute has the most information gain, a measure that expresses \n",
    "how well an attribute splits that data into groups based on classification"
   ]
  },
  {
   "cell_type": "markdown",
   "metadata": {},
   "source": [
    "### Random forest classifier\n",
    "The random forest is a classification algorithm consisting of many decisions trees. It uses bagging and feature randomness \n",
    "when building each individual tree to try to create an uncorrelated forest of trees whose prediction by committee is more\n",
    "accurate than that of any individual tree\n",
    "\n",
    "Model prediction:\n",
    "Each individual tree in the random forest spits out a class prediction ( predict 1 or 0, highest 0 win) and the class\n",
    "with the most votes becomes our model’s prediction\n",
    "\n",
    "Bagging:example\n",
    "if we have a sample of size N, we are still feeding each tree a training set of size N (unless specified otherwise).\n",
    "But instead of the original training data, we take a random sample of size N with replacement. For example, if our \n",
    "training data was [1, 2, 3, 4, 5, 6] then we might give one of our trees the following list [1, 2, 2, 3, 6, 6]. \n",
    "\n",
    "Feature Ramdomness:\n",
    "random forest can pick only from a random subset of features. This forces even more variation amongst the trees in the model \n",
    "and ultimately results in lower correlation across trees and more diversification."
   ]
  },
  {
   "cell_type": "code",
   "execution_count": null,
   "metadata": {},
   "outputs": [],
   "source": []
  }
 ],
 "metadata": {
  "kernelspec": {
   "display_name": "Python 3",
   "language": "python",
   "name": "python3"
  },
  "language_info": {
   "codemirror_mode": {
    "name": "ipython",
    "version": 3
   },
   "file_extension": ".py",
   "mimetype": "text/x-python",
   "name": "python",
   "nbconvert_exporter": "python",
   "pygments_lexer": "ipython3",
   "version": "3.7.7"
  }
 },
 "nbformat": 4,
 "nbformat_minor": 4
}
